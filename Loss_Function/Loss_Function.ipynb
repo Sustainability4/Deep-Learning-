{
  "nbformat": 4,
  "nbformat_minor": 0,
  "metadata": {
    "colab": {
      "name": "Loss_Function.ipynb",
      "provenance": [],
      "collapsed_sections": []
    },
    "kernelspec": {
      "name": "python3",
      "display_name": "Python 3"
    },
    "language_info": {
      "name": "python"
    }
  },
  "cells": [
    {
      "cell_type": "code",
      "execution_count": 1,
      "metadata": {
        "id": "fZMNKhZiW1Ix"
      },
      "outputs": [],
      "source": [
        "import pandas as pd\n",
        "import numpy as np\n",
        "import matplotlib.pyplot as plt\n",
        "import tensorflow as tf\n",
        "plt.style.use(\"fivethirtyeight\")"
      ]
    },
    {
      "cell_type": "markdown",
      "source": [
        "# Common loss functions\n",
        "\n",
        "## For Regression:- "
      ],
      "metadata": {
        "id": "N9z2TlS5XTnb"
      }
    },
    {
      "cell_type": "markdown",
      "source": [
        "### 1. Mean Abslolute Error (MAE) | $l_1$ Loss function | L1-norm Loss Function (Least Absolute Error LAE):\n",
        "\n",
        "\n",
        "$$MAE = \\frac{1}{m}\\sum_{i=1}^m |y^{(i)} - \\hat{y}^{(i)}|$$\n",
        "\n",
        "**L1 loss function** are also known as **Least Absolute Deviations** in short **LAD**.\n",
        "\n",
        "It is used to minimize the error which is the mean of sum of all the absolute differences in between the true value and the predicted value."
      ],
      "metadata": {
        "id": "odd1naDQXWnN"
      }
    },
    {
      "cell_type": "code",
      "source": [
        "def MAE(actual,pred):\n",
        "  return np.abs(actual-pred)"
      ],
      "metadata": {
        "id": "MH_kQ1WFXPk_"
      },
      "execution_count": 2,
      "outputs": []
    },
    {
      "cell_type": "code",
      "source": [
        "actual_arr = np.repeat(100,10000) # Actual value is a list of [100,100,100....] All values are 100 and we have assumed that all the actual values are 100\n",
        "pred_arr = np.arange(-10000,10000,2) # Predicted values are [-10000,-9998,...., 9998, 10000]. In total 10,0000 datapoints \n",
        "\n",
        "loss_mae = [MAE(actual,pred) for actual, pred in zip(actual_arr,pred_arr)]\n",
        "\n",
        "plt.plot(pred_arr,loss_mae)"
      ],
      "metadata": {
        "colab": {
          "base_uri": "https://localhost:8080/",
          "height": 279
        },
        "id": "nWWn5riwYV6B",
        "outputId": "990afb9c-2572-4048-e4e5-89f6b2bc09ac"
      },
      "execution_count": 3,
      "outputs": [
        {
          "output_type": "execute_result",
          "data": {
            "text/plain": [
              "[<matplotlib.lines.Line2D at 0x7fab4f2ec090>]"
            ]
          },
          "metadata": {},
          "execution_count": 3
        },
        {
          "output_type": "display_data",
          "data": {
            "text/plain": [
              "<Figure size 432x288 with 1 Axes>"
            ],
            "image/png": "[encoded data removed]"
          },
          "metadata": {
            "needs_background": "light"
          }
        }
      ]
    },
    {
      "cell_type": "code",
      "source": [
        "total_loss = np.mean(np.sum(loss_mae))\n",
        "total_loss"
      ],
      "metadata": {
        "colab": {
          "base_uri": "https://localhost:8080/"
        },
        "id": "ZYcbLOsmYvcT",
        "outputId": "5a60e3d3-31f5-488c-b813-b055af92be1f"
      },
      "execution_count": 4,
      "outputs": [
        {
          "output_type": "execute_result",
          "data": {
            "text/plain": [
              "50005100.0"
            ]
          },
          "metadata": {},
          "execution_count": 4
        }
      ]
    },
    {
      "cell_type": "markdown",
      "source": [
        "### 2. Mean Squared Error (MSE) | $l_2$ Loss function | L2-norm Loss Function (Least Squares Error LSE):\n",
        "\n",
        "\n",
        "$$MSE = \\frac{1}{m}\\sum_{i=1}^m (y^{(i)} - \\hat{y}^{(i)})^2$$\n",
        "\n",
        "\n",
        "It is used to minimize the error which is the mean of sum of all the squared differences in between the true value and the pedicted value.\n",
        "\n",
        "**The disadvantage** of the **L2 norm** is that when there are outliers, these points will account for the main component of the loss. "
      ],
      "metadata": {
        "id": "y8sXWCoWc2ga"
      }
    },
    {
      "cell_type": "code",
      "source": [
        "def MSE(actual, pred):\n",
        "\n",
        "  return np.square(actual - pred)"
      ],
      "metadata": {
        "id": "ALNuuJVucz29"
      },
      "execution_count": 5,
      "outputs": []
    },
    {
      "cell_type": "code",
      "source": [
        "actual_arr = np.repeat(100, 10000)\n",
        "pred_arr = np.arange(-10000, 10000, 2)\n",
        "\n",
        "loss_mSe = [MSE(actual, pred) for actual, pred in zip(actual_arr, pred_arr)]\n",
        "\n",
        "plt.plot(pred_arr, loss_mSe)"
      ],
      "metadata": {
        "colab": {
          "base_uri": "https://localhost:8080/",
          "height": 290
        },
        "id": "yVobQAIDc6VJ",
        "outputId": "5752b19c-38f2-4795-f813-b4af440c8ad2"
      },
      "execution_count": 6,
      "outputs": [
        {
          "output_type": "execute_result",
          "data": {
            "text/plain": [
              "[<matplotlib.lines.Line2D at 0x7fab4d7cdd90>]"
            ]
          },
          "metadata": {},
          "execution_count": 6
        },
        {
          "output_type": "display_data",
          "data": {
            "text/plain": [
              "<Figure size 432x288 with 1 Axes>"
            ],
            "image/png": "[encoded data removed]"
          },
          "metadata": {
            "needs_background": "light"
          }
        }
      ]
    },
    {
      "cell_type": "code",
      "source": [
        "total_loss = np.mean(np.sum(loss_mSe))\n",
        "total_loss"
      ],
      "metadata": {
        "colab": {
          "base_uri": "https://localhost:8080/"
        },
        "id": "IPUI_mQ0c8jr",
        "outputId": "482e250e-8667-44f8-a58d-b0c947dc4bac"
      },
      "execution_count": 7,
      "outputs": [
        {
          "output_type": "execute_result",
          "data": {
            "text/plain": [
              "333435340000.0"
            ]
          },
          "metadata": {},
          "execution_count": 7
        }
      ]
    },
    {
      "cell_type": "markdown",
      "source": [
        "# 3. Huber Loss \n",
        "\n",
        "Huber Loss is often used in regression problems. Compared with L2 loss, Huber Loss is less sensitive to outliers(because if the residual is too large, it is a piecewise function, loss is a linear function of the residual).\n",
        "\n",
        "$$L_\\delta(y, \\hat{y}) = \\left\\{\\begin{matrix}\n",
        "\\frac{1}{2}(y - \\hat{y})^2, & for\\ |y - \\hat{y}| \\le \\delta\\\\ \n",
        "\\delta(|y - \\hat{y}| - \\frac{1}{2}\\delta), & otherwise\n",
        "\\end{matrix}\\right.\n",
        "$$\n",
        "\n",
        "Among them, $\\delta$ is a set parameter, $y$ represents the real value, and $f(x)$ represents the predicted value.\n",
        "\n",
        "The advantage of this is that when the residual is small, the loss function is L2 norm, and when the residual is large, it is a linear function of L1 norm\n",
        "\n",
        "\n",
        "[Wiki](https://en.wikipedia.org/wiki/Huber_loss)"
      ],
      "metadata": {
        "id": "IDx3E79rdC4G"
      }
    },
    {
      "cell_type": "code",
      "source": [
        "def huber(true, pred, delta):\n",
        "    \"\"\"\n",
        "    true: array of true values    \n",
        "    pred: array of predicted values\n",
        "    \n",
        "    returns: smoothed mean absolute error loss\n",
        "    \"\"\"\n",
        "    loss = np.where(np.abs(true-pred) < delta , 0.5*((true-pred)**2), delta*np.abs(true - pred) - 0.5*(delta**2))\n",
        "    return loss"
      ],
      "metadata": {
        "id": "9ANzJORdc_Yc"
      },
      "execution_count": 8,
      "outputs": []
    },
    {
      "cell_type": "code",
      "source": [
        "actual_arr = np.repeat(0, 1000)\n",
        "pred_arr = np.arange(-10, 10, 0.02)\n",
        "\n",
        "deltas = [0.1, 1, 10]\n",
        "\n",
        "loss_huber = [[huber(actual, pred, delta) for actual, pred in zip(actual_arr, pred_arr)] for delta in deltas]\n",
        "\n",
        "for idx in range(len(deltas)):\n",
        "  plt.plot(pred_arr, loss_huber[idx])"
      ],
      "metadata": {
        "colab": {
          "base_uri": "https://localhost:8080/",
          "height": 262
        },
        "id": "Z-thwQl5dORK",
        "outputId": "c5d611fb-4b19-49c2-f3a7-c63444140489"
      },
      "execution_count": 9,
      "outputs": [
        {
          "output_type": "display_data",
          "data": {
            "text/plain": [
              "<Figure size 432x288 with 1 Axes>"
            ],
            "image/png": "[encoded data removed]"
          },
          "metadata": {
            "needs_background": "light"
          }
        }
      ]
    },
    {
      "cell_type": "markdown",
      "source": [
        "# 4. Pseudo Huber Loss \n",
        "\n",
        "The Pseudo-Huber loss function can be used as a smooth approximation of the Huber loss function. \n",
        "\n",
        "It combines the best properties of $L2$ squared loss and $L1$ absolute loss by being strongly convex when close to the target/minimum and less steep for extreme values. \n",
        "\n",
        "The scale at which the Pseudo-Huber loss function transitions from $L2$ loss for values close to the minimum to $L1$ loss for extreme values and the steepness at extreme values can be controlled by the $\\delta$  value. \n",
        "\n",
        "The Pseudo-Huber loss function ensures that derivatives are continuous for all degrees\n",
        "\n",
        "$$L_\\delta(y, \\hat{y}) = \\delta^2 (\\sqrt{1 + ((y - \\hat{y})/\\delta)^2} - 1)\n",
        "$$\n"
      ],
      "metadata": {
        "id": "KL5UsbZudxMW"
      }
    },
    {
      "cell_type": "code",
      "source": [
        "x_function = tf.linspace(-1., 1., 500)\n",
        "target = tf.constant(0.)\n",
        "\n",
        "delta1 = tf.constant(0.2)\n",
        "pseudo_huber1_output = tf.multiply(tf.square(delta1), tf.sqrt(1. + tf.square((target - x_function)/delta1)) - 1.)\n",
        "# pseudo_huber1_output = sess.run(pseudo_huber1)\n",
        "\n",
        "delta2 = tf.constant(1.)\n",
        "pseudo_huber2_output = tf.multiply(tf.square(delta2), tf.sqrt(1. + tf.square((target - x_function) / delta2)) - 1.)\n",
        "# pseudo_huber2_output = sess.run(pseudo_huber2)\n",
        "\n",
        "delta3 = tf.constant(5.)\n",
        "pseudo_huber3_output = tf.multiply(tf.square(delta3), tf.sqrt(1. + tf.square((target - x_function) / delta2)) - 1.)\n",
        "# pseudo_huber3_output = sess.run(pseudo_huber3)"
      ],
      "metadata": {
        "id": "PptMyz1QdQrB"
      },
      "execution_count": 10,
      "outputs": []
    },
    {
      "cell_type": "code",
      "source": [
        "x_array = x_function\n",
        "plt.plot(x_array, pseudo_huber1_output, 'm,', label='Pseudo-Huber (0.2)')\n",
        "plt.plot(x_array, pseudo_huber2_output, 'k-.', label='Pseudo-Huber (1.0)')\n",
        "plt.plot(x_array, pseudo_huber3_output, 'g:', label='Pseudo-Huber (5.0)')\n",
        "plt.ylim(-0.2, 0.4)\n",
        "plt.legend(loc='lower right', prop={'size': 11})\n",
        "plt.title('LOSS FUNCTIONS')\n",
        "plt.show()"
      ],
      "metadata": {
        "colab": {
          "base_uri": "https://localhost:8080/",
          "height": 279
        },
        "id": "LtdeKkV8d9iT",
        "outputId": "4a9717d0-147a-4b21-9d75-567a8ce2bb4c"
      },
      "execution_count": 11,
      "outputs": [
        {
          "output_type": "display_data",
          "data": {
            "text/plain": [
              "<Figure size 432x288 with 1 Axes>"
            ],
            "image/png": "[encoded data removed]"
          },
          "metadata": {
            "needs_background": "light"
          }
        }
      ]
    },
    {
      "cell_type": "markdown",
      "source": [
        "# For Classification \n",
        "\n",
        "<img src=\"https://gombru.github.io/assets/cross_entropy_loss/multiclass_multilabel.png\" width=70%></img>"
      ],
      "metadata": {
        "id": "a2Nc9lhAn71f"
      }
    },
    {
      "cell_type": "markdown",
      "source": [
        "## 3.Hinge Loss\n",
        "\n",
        "Hinge loss is often used for binary classification problems, such as ground true: t = 1 or -1, predicted value y = wx + b\n",
        "\n",
        "In the svm classifier, the definition of hinge loss is\n",
        "\n",
        "$$l(y) = max(0, 1-t.y)$$\n",
        "\n",
        "In other words, the closer the y is to t, the smaller the loss will be."
      ],
      "metadata": {
        "id": "q_Z3gRNsn9rs"
      }
    },
    {
      "cell_type": "code",
      "source": [
        "x_guess2 = tf.linspace(-3.,5.,500)\n",
        "x_actual2 = tf.convert_to_tensor([1.]*500)\n",
        "\n",
        "#Hinge loss\n",
        "#hinge_loss = tf.losses.hinge_loss(labels=x_actual2, logits=x_guess2)\n",
        "hinge_loss = tf.maximum(0.,1.-(x_guess2*x_actual2))\n",
        "# with tf.Session() as sess:\n",
        "x_,hin_ = [x_guess2, hinge_loss]\n",
        "plt.plot(x_,hin_,'--', label='hin_')\n",
        "plt.legend()"
      ],
      "metadata": {
        "colab": {
          "base_uri": "https://localhost:8080/",
          "height": 279
        },
        "id": "6sQv6DnseAp4",
        "outputId": "b4bd5e21-ac18-4777-e4e3-e7cb96024c56"
      },
      "execution_count": 12,
      "outputs": [
        {
          "output_type": "execute_result",
          "data": {
            "text/plain": [
              "<matplotlib.legend.Legend at 0x7fab49da7690>"
            ]
          },
          "metadata": {},
          "execution_count": 12
        },
        {
          "output_type": "display_data",
          "data": {
            "text/plain": [
              "<Figure size 432x288 with 1 Axes>"
            ],
            "image/png": "[encoded data removed]"
          },
          "metadata": {
            "needs_background": "light"
          }
        }
      ]
    },
    {
      "cell_type": "markdown",
      "source": [
        "## 4.Cross-entropy loss\n",
        "\n",
        "\n",
        "$$J(w) = -y.log(\\hat{y}) - (1 - y).log(1-\\hat{y}) = - \\sum_{i}p_i. log(q_i)$$\n",
        "\n",
        "Cross-entropy loss is mainly applied to binary classification problems. The predicted value is a probability value and the loss is defined according to the cross entropy. Note the value range of the above value: the predicted value of y should be a probability and the value range is [0,1]\n",
        "\n",
        "\n",
        "\n",
        "## 5.Sigmoid-Cross-entropy loss\n",
        "\n",
        "The above cross-entropy loss requires that the predicted value is a probability. Generally, we calculate $scores = x*w + b$. Entering this value into the sigmoid function can compress the value range to (0,1).\n",
        "\n",
        "<img src=\"./Images/img9.png\">\n",
        "\n",
        "It can be seen that the sigmoid function smoothes the predicted value(such as directly inputting 0.1 and 0.01 and inputting 0.1, 0.01 sigmoid and then entering, the latter will obviously have a much smaller change value), which makes the predicted value of sigmoid-ce far from the label loss growth is not so steep.\n",
        "\n",
        "## 6.Softmax cross-entropy loss\n",
        "\n",
        "First, the softmax function can convert a set of fraction vectors into corresponding probability vectors. Here is the definition of softmax function\n",
        "\n",
        "$$softmax(z)_j = \\frac{e^{z_j}}{\\sum_{k=1}^{K}{e^{z_k}}}$$\n",
        "\n",
        "As above, softmax also implements a vector of 'squashes' k-dimensional real value to the [0,1] range of k-dimensional, while ensuring that the cumulative sum is 1.\n",
        "\n",
        "According to the definition of cross entropy, probability is required as input.Sigmoid-cross-entropy-loss uses sigmoid to convert the score vector into a probability vector, and softmax-cross-entropy-loss uses a softmax function to convert the score vector into a probability vector.\n",
        "\n",
        "According to the definition of cross entropy loss.\n",
        "\n",
        "$$H(p,q) = - \\sum_{x}p(x)log(q(x))$$\n",
        "\n",
        "where $p(x)$ represents the probability that classification $x$ is a correct classification, and the value of $p$ can only be 0 or 1. This is the prior value\n",
        "\n",
        "$q(x)$ is the prediction probability that the $x$ category is a correct classification, and the value range is (0,1)\n",
        "\n",
        "So specific to a classification problem with a total of C types, then $p(x_j)$, $(0 \\le j \\le C)$ must be only 1 and C-1 is 0(because there can be only one correct classification, correct the probability of classification as correct classification is 1, and the probability of the remaining classification as correct classification is 0)\n",
        "\n",
        "Then the definition of softmax-cross-entropy-loss can be derived naturally.\n",
        "\n",
        "Here is the definition of softmax-cross-entropy-loss.\n",
        "\n",
        "$$L_i = - log(\\frac{e^{f_{y_i}}}{\\sum_{j}{e^{f_{y_j}}}})$$\n",
        "\n",
        "Where $f_j$ is the score of all possible categories, and $f_{y_i}$ is the score of ground true class"
      ],
      "metadata": {
        "id": "37Hk8hswoG-p"
      }
    },
    {
      "cell_type": "markdown",
      "source": [
        "## Reference -\n",
        "\n",
        "[1] https://gombru.github.io/2018/05/23/cross_entropy_loss/"
      ],
      "metadata": {
        "id": "WvK9Gx46oLcT"
      }
    },
    {
      "cell_type": "markdown",
      "source": [
        "### SPARSE MATRIX"
      ],
      "metadata": {
        "id": "48wrzlhrotD7"
      }
    },
    {
      "cell_type": "code",
      "source": [
        "import numpy as np\n",
        "from scipy.sparse import csr_matrix"
      ],
      "metadata": {
        "id": "uBIIqr3goCWp"
      },
      "execution_count": 13,
      "outputs": []
    },
    {
      "cell_type": "code",
      "source": [
        "A = np.array([\n",
        "              [1,0,0,1,0,0],\n",
        "              [0,0,2,0,0,1],\n",
        "              [0,0,0,2,0,3],\n",
        "])\n",
        "\n",
        "print(A)\n",
        "\n",
        "S = csr_matrix(A)\n",
        "print(S)\n",
        "print(type(S))\n",
        "\n",
        "B = S.todense()\n",
        "print(B)\n",
        "\n"
      ],
      "metadata": {
        "colab": {
          "base_uri": "https://localhost:8080/"
        },
        "id": "QXY-IEato0Dw",
        "outputId": "f405e55f-611e-457a-b586-69556237f8fc"
      },
      "execution_count": 14,
      "outputs": [
        {
          "output_type": "stream",
          "name": "stdout",
          "text": [
            "[[1 0 0 1 0 0]\n",
            " [0 0 2 0 0 1]\n",
            " [0 0 0 2 0 3]]\n",
            "  (0, 0)\t1\n",
            "  (0, 3)\t1\n",
            "  (1, 2)\t2\n",
            "  (1, 5)\t1\n",
            "  (2, 3)\t2\n",
            "  (2, 5)\t3\n",
            "<class 'scipy.sparse.csr.csr_matrix'>\n",
            "[[1 0 0 1 0 0]\n",
            " [0 0 2 0 0 1]\n",
            " [0 0 0 2 0 3]]\n"
          ]
        }
      ]
    },
    {
      "cell_type": "code",
      "source": [
        ""
      ],
      "metadata": {
        "id": "eWUAFh06pRS2"
      },
      "execution_count": null,
      "outputs": []
    }
  ]
}