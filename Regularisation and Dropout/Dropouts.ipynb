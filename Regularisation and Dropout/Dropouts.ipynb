{
  "nbformat": 4,
  "nbformat_minor": 0,
  "metadata": {
    "colab": {
      "name": "Dropouts.ipynb",
      "provenance": []
    },
    "kernelspec": {
      "name": "python3",
      "display_name": "Python 3"
    },
    "language_info": {
      "name": "python"
    }
  },
  "cells": [
    {
      "cell_type": "markdown",
      "source": [
        "### How the calculation in dropouts work?\n",
        "\n",
        "Bernoulli's Random Variable Calculation"
      ],
      "metadata": {
        "id": "ZuqsEDfGgkYo"
      }
    },
    {
      "cell_type": "code",
      "execution_count": 6,
      "metadata": {
        "id": "30ndfd-0uGLY"
      },
      "outputs": [],
      "source": [
        "# This conatins the bernaulli distribution \n",
        "import tensorflow_probability as tfp \n",
        "import tensorflow as tf"
      ]
    },
    {
      "cell_type": "code",
      "source": [
        "keeping_prob = 0.7\n",
        "r = tfp.distributions.Bernoulli(probs = keeping_prob, dtype = tf.float32).sample(sample_shape = (10,1))"
      ],
      "metadata": {
        "id": "PN5LoDaafIIi"
      },
      "execution_count": 10,
      "outputs": []
    },
    {
      "cell_type": "code",
      "source": [
        "# We are looking for a (10,1) column matrix network \n",
        "r"
      ],
      "metadata": {
        "colab": {
          "base_uri": "https://localhost:8080/"
        },
        "id": "JmsCNBb9fTxj",
        "outputId": "9f6d1fed-d730-4411-adee-eadb8c0c005a"
      },
      "execution_count": 11,
      "outputs": [
        {
          "output_type": "execute_result",
          "data": {
            "text/plain": [
              "<tf.Tensor: shape=(10, 1), dtype=float32, numpy=\n",
              "array([[1.],\n",
              "       [0.],\n",
              "       [0.],\n",
              "       [0.],\n",
              "       [1.],\n",
              "       [1.],\n",
              "       [1.],\n",
              "       [1.],\n",
              "       [1.],\n",
              "       [0.]], dtype=float32)>"
            ]
          },
          "metadata": {},
          "execution_count": 11
        }
      ]
    },
    {
      "cell_type": "code",
      "source": [
        "# Lets say we have the values coming in from the prev layers also in a (10,1) fashion\n",
        "y_prev = tf.random.normal((10,1))\n",
        "y_prev"
      ],
      "metadata": {
        "colab": {
          "base_uri": "https://localhost:8080/"
        },
        "id": "XyPNPQMHfgGh",
        "outputId": "3bcd4cd2-e62c-4d0c-f69a-404e85a0e4cc"
      },
      "execution_count": 12,
      "outputs": [
        {
          "output_type": "execute_result",
          "data": {
            "text/plain": [
              "<tf.Tensor: shape=(10, 1), dtype=float32, numpy=\n",
              "array([[ 1.2639349 ],\n",
              "       [ 1.4258683 ],\n",
              "       [-0.52409965],\n",
              "       [-0.21170476],\n",
              "       [-1.5714499 ],\n",
              "       [ 0.6273802 ],\n",
              "       [ 0.60202545],\n",
              "       [ 1.0974052 ],\n",
              "       [ 1.5483238 ],\n",
              "       [-1.2707598 ]], dtype=float32)>"
            ]
          },
          "metadata": {},
          "execution_count": 12
        }
      ]
    },
    {
      "cell_type": "code",
      "source": [
        "# This is how we calculate the new Y with switch off and switch on types \n",
        "y_new = tf.math.multiply(y_prev,r)\n",
        "y_new"
      ],
      "metadata": {
        "colab": {
          "base_uri": "https://localhost:8080/"
        },
        "id": "r4LiG9Ijf4MA",
        "outputId": "c8bec9c3-a031-4d6b-9a06-3dcaace2bf44"
      },
      "execution_count": 13,
      "outputs": [
        {
          "output_type": "execute_result",
          "data": {
            "text/plain": [
              "<tf.Tensor: shape=(10, 1), dtype=float32, numpy=\n",
              "array([[ 1.2639349 ],\n",
              "       [ 0.        ],\n",
              "       [-0.        ],\n",
              "       [-0.        ],\n",
              "       [-1.5714499 ],\n",
              "       [ 0.6273802 ],\n",
              "       [ 0.60202545],\n",
              "       [ 1.0974052 ],\n",
              "       [ 1.5483238 ],\n",
              "       [-0.        ]], dtype=float32)>"
            ]
          },
          "metadata": {},
          "execution_count": 13
        }
      ]
    },
    {
      "cell_type": "code",
      "source": [
        "# Once the training happens we multiply the weights with p "
      ],
      "metadata": {
        "id": "Ha0BtLJ4gP_w"
      },
      "execution_count": null,
      "outputs": []
    },
    {
      "cell_type": "markdown",
      "source": [
        "### Dropout\n",
        "\n",
        "Implementation "
      ],
      "metadata": {
        "id": "aKlzdrFZgrXL"
      }
    },
    {
      "cell_type": "code",
      "source": [
        "from tensorflow import keras"
      ],
      "metadata": {
        "id": "kw_zqV5DgqyK"
      },
      "execution_count": 14,
      "outputs": []
    },
    {
      "cell_type": "code",
      "source": [
        "# rate is a keeping probablity. Keep it between 0.5 and 1 \n",
        "model = keras.models.Sequential([\n",
        "    keras.layers.Flatten(input_shape=[28, 28]),\n",
        "    keras.layers.Dropout(rate=0.5),\n",
        "    keras.layers.Dense(300, activation=\"elu\", kernel_initializer=\"he_normal\"),\n",
        "    keras.layers.Dropout(rate=0.5),\n",
        "    keras.layers.Dense(100, activation=\"elu\", kernel_initializer=\"he_normal\"),\n",
        "    keras.layers.Dropout(rate=0.5),\n",
        "    keras.layers.Dense(10, activation=\"softmax\")\n",
        "])\n",
        "model.compile(loss=\"sparse_categorical_crossentropy\", optimizer=\"nadam\", metrics=[\"accuracy\"])\n",
        "# n_epochs = 2\n",
        "# history = model.fit(X_train_scaled, y_train, epochs=n_epochs,\n",
        "#                     validation_data=(X_valid_scaled, y_valid))"
      ],
      "metadata": {
        "id": "RuhZ12sAhG1y"
      },
      "execution_count": 15,
      "outputs": []
    },
    {
      "cell_type": "code",
      "source": [
        "# Some complexity is increasing \n",
        "model.summary()"
      ],
      "metadata": {
        "colab": {
          "base_uri": "https://localhost:8080/"
        },
        "id": "ixV_1WD9hKtS",
        "outputId": "e4035683-f3eb-403c-b946-dd49887314bf"
      },
      "execution_count": 16,
      "outputs": [
        {
          "output_type": "stream",
          "name": "stdout",
          "text": [
            "Model: \"sequential\"\n",
            "_________________________________________________________________\n",
            " Layer (type)                Output Shape              Param #   \n",
            "=================================================================\n",
            " flatten (Flatten)           (None, 784)               0         \n",
            "                                                                 \n",
            " dropout (Dropout)           (None, 784)               0         \n",
            "                                                                 \n",
            " dense (Dense)               (None, 300)               235500    \n",
            "                                                                 \n",
            " dropout_1 (Dropout)         (None, 300)               0         \n",
            "                                                                 \n",
            " dense_1 (Dense)             (None, 100)               30100     \n",
            "                                                                 \n",
            " dropout_2 (Dropout)         (None, 100)               0         \n",
            "                                                                 \n",
            " dense_2 (Dense)             (None, 10)                1010      \n",
            "                                                                 \n",
            "=================================================================\n",
            "Total params: 266,610\n",
            "Trainable params: 266,610\n",
            "Non-trainable params: 0\n",
            "_________________________________________________________________\n"
          ]
        }
      ]
    },
    {
      "cell_type": "code",
      "source": [
        ""
      ],
      "metadata": {
        "id": "qukatZa2hRYe"
      },
      "execution_count": null,
      "outputs": []
    }
  ]
}