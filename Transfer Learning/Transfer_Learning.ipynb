{
  "nbformat": 4,
  "nbformat_minor": 0,
  "metadata": {
    "colab": {
      "name": "Transfer_Learning.ipynb",
      "provenance": []
    },
    "kernelspec": {
      "name": "python3",
      "display_name": "Python 3"
    },
    "language_info": {
      "name": "python"
    }
  },
  "cells": [
    {
      "cell_type": "code",
      "execution_count": 2,
      "metadata": {
        "id": "kpx-fPqp6kIw"
      },
      "outputs": [],
      "source": [
        "import argparse\n",
        "import os\n",
        "import logging\n",
        "import tensorflow as tf\n",
        "import numpy as np"
      ]
    },
    {
      "cell_type": "code",
      "source": [
        "#Loading the already trained base model for MNIST dataset\n",
        "base_model_path = \"/content/drive/MyDrive/ANN/model.h5\"\n",
        "base_model = tf.keras.models.load_model(base_model_path)\n",
        "base_model.summary()"
      ],
      "metadata": {
        "colab": {
          "base_uri": "https://localhost:8080/"
        },
        "id": "CCuapjd08cvI",
        "outputId": "6d68c066-27ab-470a-8266-42c821d94561"
      },
      "execution_count": 3,
      "outputs": [
        {
          "output_type": "stream",
          "name": "stdout",
          "text": [
            "Model: \"sequential\"\n",
            "_________________________________________________________________\n",
            " Layer (type)                Output Shape              Param #   \n",
            "=================================================================\n",
            " inputLayer (Flatten)        (None, 784)               0         \n",
            "                                                                 \n",
            " hiddenLayer1 (Dense)        (None, 300)               235500    \n",
            "                                                                 \n",
            " hiddenLayer2 (Dense)        (None, 100)               30100     \n",
            "                                                                 \n",
            " outputLayer (Dense)         (None, 10)                1010      \n",
            "                                                                 \n",
            "=================================================================\n",
            "Total params: 266,610\n",
            "Trainable params: 266,610\n",
            "Non-trainable params: 0\n",
            "_________________________________________________________________\n"
          ]
        }
      ]
    },
    {
      "cell_type": "code",
      "source": [
        "# Now base model has 784 input neurons after flattening \n",
        "  # then we have 300 unit of neurons \n",
        "  # then we have 100 neurons \n",
        "  # at the final layer we are having 10 neurons \n",
        "# In transfer learning we have this model already trained. We will simply take this base and freeze the weights \n",
        "# These weights will become non trainable. We will replace the last layer with two neurons as we have to classify \n",
        "# now the numbers only as odd or even unlike in the previous case where we needed to classify it among the ten digits\n",
        "\n",
        "# Freeze weights \n",
        "for layer in base_model.layers[: -1]:\n",
        "        print(f\"before freezing weights {layer.name}: {layer.trainable}\") \n",
        "        layer.trainable = False\n",
        "        print(f\"after freezing weights {layer.name}: {layer.trainable}\") \n"
      ],
      "metadata": {
        "colab": {
          "base_uri": "https://localhost:8080/"
        },
        "id": "rLcXIkeN83Is",
        "outputId": "bee64cfb-53a3-495f-b4f8-1bcf4e57abd8"
      },
      "execution_count": 5,
      "outputs": [
        {
          "output_type": "stream",
          "name": "stdout",
          "text": [
            "before freezing weights inputLayer: True\n",
            "after freezing weights inputLayer: False\n",
            "before freezing weights hiddenLayer1: True\n",
            "after freezing weights hiddenLayer1: False\n",
            "before freezing weights hiddenLayer2: True\n",
            "after freezing weights hiddenLayer2: False\n"
          ]
        }
      ]
    },
    {
      "cell_type": "code",
      "source": [
        "# Modify the last layer for our use case of segregating as even or odd \n",
        "\n",
        "base_layers = base_model.layers[:-1]\n",
        "\n",
        "new_model = tf.keras.models.Sequential(base_layers)\n",
        "new_model.add(\n",
        "    tf.keras.layers.Dense(2, activation=\"softmax\", name=\"output_layer\")\n",
        ")\n",
        "\n",
        "new_model.summary()"
      ],
      "metadata": {
        "colab": {
          "base_uri": "https://localhost:8080/"
        },
        "id": "AxTvIi4m-Yuc",
        "outputId": "1fbe2cea-4643-4ad2-f421-12d5965e1570"
      },
      "execution_count": 6,
      "outputs": [
        {
          "output_type": "stream",
          "name": "stdout",
          "text": [
            "Model: \"sequential\"\n",
            "_________________________________________________________________\n",
            " Layer (type)                Output Shape              Param #   \n",
            "=================================================================\n",
            " inputLayer (Flatten)        (None, 784)               0         \n",
            "                                                                 \n",
            " hiddenLayer1 (Dense)        (None, 300)               235500    \n",
            "                                                                 \n",
            " hiddenLayer2 (Dense)        (None, 100)               30100     \n",
            "                                                                 \n",
            " output_layer (Dense)        (None, 2)                 202       \n",
            "                                                                 \n",
            "=================================================================\n",
            "Total params: 265,802\n",
            "Trainable params: 202\n",
            "Non-trainable params: 265,600\n",
            "_________________________________________________________________\n"
          ]
        }
      ]
    },
    {
      "cell_type": "code",
      "source": [
        "# We need to take in the training data for the last layer now but the y we have has a ten fold classification \n",
        "# We need to update this data as odd and even \n",
        "\n",
        "def update_odd_even_labels(labels):\n",
        "    # odd = 0\n",
        "    # even = 1\n",
        "    for idx, label in enumerate(labels):\n",
        "        labels[idx] = np.where(label%2 == 0, 1, 0)\n",
        "    return labels\n",
        "\n",
        "# get the data\n",
        "(X_train_full, y_train_full), (X_test, y_test) = tf.keras.datasets.mnist.load_data()\n",
        "X_train_full = X_train_full / 255.0\n",
        "X_test = X_test / 255.0\n",
        "X_valid, X_train = X_train_full[:5000], X_train_full[5000:]\n",
        "y_valid, y_train = y_train_full[:5000], y_train_full[5000:]\n",
        "\n",
        "y_train_bin, y_test_bin, y_valid_bin = update_odd_even_labels([y_train, y_test, y_valid])"
      ],
      "metadata": {
        "colab": {
          "base_uri": "https://localhost:8080/"
        },
        "id": "nU9KRznx_Ehm",
        "outputId": "4431a710-36a3-4ac4-eab9-06ac6df55b81"
      },
      "execution_count": 7,
      "outputs": [
        {
          "output_type": "stream",
          "name": "stdout",
          "text": [
            "Downloading data from https://storage.googleapis.com/tensorflow/tf-keras-datasets/mnist.npz\n",
            "11493376/11490434 [==============================] - 0s 0us/step\n",
            "11501568/11490434 [==============================] - 0s 0us/step\n"
          ]
        }
      ]
    },
    {
      "cell_type": "code",
      "source": [
        "new_model.compile(loss=\"sparse_categorical_crossentropy\",\n",
        "              optimizer=tf.keras.optimizers.SGD(learning_rate=1e-3),\n",
        "              metrics=[\"accuracy\"])\n",
        "\n",
        "history = new_model.fit(X_train, y_train_bin, epochs=10,\n",
        "                    validation_data=(X_valid, y_valid_bin), verbose=2)"
      ],
      "metadata": {
        "colab": {
          "base_uri": "https://localhost:8080/"
        },
        "id": "0wBHxiJM_sNE",
        "outputId": "ecef377c-3e75-4802-fe77-44555a0d204d"
      },
      "execution_count": 8,
      "outputs": [
        {
          "output_type": "stream",
          "name": "stdout",
          "text": [
            "Epoch 1/10\n",
            "1719/1719 - 5s - loss: 0.2964 - accuracy: 0.8827 - val_loss: 0.2149 - val_accuracy: 0.9242 - 5s/epoch - 3ms/step\n",
            "Epoch 2/10\n",
            "1719/1719 - 4s - loss: 0.2009 - accuracy: 0.9290 - val_loss: 0.1778 - val_accuracy: 0.9392 - 4s/epoch - 2ms/step\n",
            "Epoch 3/10\n",
            "1719/1719 - 3s - loss: 0.1731 - accuracy: 0.9401 - val_loss: 0.1587 - val_accuracy: 0.9464 - 3s/epoch - 2ms/step\n",
            "Epoch 4/10\n",
            "1719/1719 - 4s - loss: 0.1571 - accuracy: 0.9466 - val_loss: 0.1474 - val_accuracy: 0.9500 - 4s/epoch - 2ms/step\n",
            "Epoch 5/10\n",
            "1719/1719 - 4s - loss: 0.1463 - accuracy: 0.9508 - val_loss: 0.1397 - val_accuracy: 0.9538 - 4s/epoch - 2ms/step\n",
            "Epoch 6/10\n",
            "1719/1719 - 4s - loss: 0.1385 - accuracy: 0.9535 - val_loss: 0.1331 - val_accuracy: 0.9556 - 4s/epoch - 2ms/step\n",
            "Epoch 7/10\n",
            "1719/1719 - 4s - loss: 0.1325 - accuracy: 0.9558 - val_loss: 0.1284 - val_accuracy: 0.9574 - 4s/epoch - 2ms/step\n",
            "Epoch 8/10\n",
            "1719/1719 - 3s - loss: 0.1278 - accuracy: 0.9574 - val_loss: 0.1249 - val_accuracy: 0.9586 - 3s/epoch - 2ms/step\n",
            "Epoch 9/10\n",
            "1719/1719 - 3s - loss: 0.1239 - accuracy: 0.9588 - val_loss: 0.1218 - val_accuracy: 0.9590 - 3s/epoch - 2ms/step\n",
            "Epoch 10/10\n",
            "1719/1719 - 3s - loss: 0.1208 - accuracy: 0.9596 - val_loss: 0.1192 - val_accuracy: 0.9608 - 3s/epoch - 2ms/step\n"
          ]
        }
      ]
    },
    {
      "cell_type": "code",
      "source": [
        "new_model.evaluate(X_test, y_test_bin)\n",
        "\n",
        "new_model_path = os.path.join(\"/content/drive/MyDrive/ANN/\", \"new_model.h5\")\n",
        "new_model.save(new_model_path)"
      ],
      "metadata": {
        "colab": {
          "base_uri": "https://localhost:8080/"
        },
        "id": "O90QTqEC_8tG",
        "outputId": "9b67eff6-cf1b-4af1-8e2e-a0f930bfa678"
      },
      "execution_count": 10,
      "outputs": [
        {
          "output_type": "stream",
          "name": "stdout",
          "text": [
            "313/313 [==============================] - 1s 2ms/step - loss: 0.1280 - accuracy: 0.9549\n"
          ]
        }
      ]
    },
    {
      "cell_type": "code",
      "source": [
        ""
      ],
      "metadata": {
        "id": "P2wcKS4bASyL"
      },
      "execution_count": null,
      "outputs": []
    }
  ]
}